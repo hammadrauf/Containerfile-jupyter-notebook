{
 "cells": [
  {
   "cell_type": "markdown",
   "id": "8285fb74",
   "metadata": {},
   "source": [
    "# Matrices & Determinants\n",
    "This will help us revise our basic concepts from Linear Algebra related to Matrices and Determinants."
   ]
  },
  {
   "cell_type": "code",
   "execution_count": 1,
   "id": "3aea9cf2",
   "metadata": {
    "vscode": {
     "languageId": "instructions"
    }
   },
   "outputs": [
    {
     "name": "stdout",
     "output_type": "stream",
     "text": [
      "Random 3x3 Matrix A:\n",
      "   8   5   1\n",
      "   2   6   9\n",
      "   9   3   4\n",
      "Transpose of Matrix A:\n",
      "   8   2   9\n",
      "   5   6   3\n",
      "   1   9   4\n"
     ]
    }
   ],
   "source": [
    "# Generate a random 3x3 matrix\n",
    "A = randi([1, 9], 3, 3);\n",
    "disp('Random 3x3 Matrix A:');\n",
    "disp(A);\n",
    "\n",
    "# Transpose of matrix A\n",
    "A_transpose = A';\n",
    "disp('Transpose of Matrix A:');\n",
    "disp(A_transpose);"
   ]
  },
  {
   "cell_type": "code",
   "execution_count": 2,
   "id": "4913d551",
   "metadata": {
    "vscode": {
     "languageId": "instructions"
    }
   },
   "outputs": [
    {
     "data": {
      "image/svg+xml": [
       "<svg xmlns=\"http://www.w3.org/2000/svg\" xmlns:xlink=\"http://www.w3.org/1999/xlink\" height=\"420px\" viewBox=\"0 0 560 420\" width=\"560px\">\n",
       " <title>Figure 1</title>\n",
       " <desc>\n",
       "Creator: GL2PS 1.4.2, (C) 1999-2020 C. Geuzaine\n",
       "For: Octave\n",
       "CreationDate: Tue Sep  9 04:15:48 2025\n",
       "</desc>\n",
       " <defs/>\n",
       " <polygon fill=\"#ffffff\" points=\"0,0 560,0 560,420 0,420\"/>\n",
       " <g>\n",
       "  <polygon fill=\"#ffffff\" points=\"0,420 560,420 560,0 0,0\" shape-rendering=\"crispEdges\"/>\n",
       "  <clipPath id=\"cp00560420\">\n",
       "   <polygon points=\"0,420 560,420 560,0 0,0\"/>\n",
       "  </clipPath>\n",
       "  <g clip-path=\"url(#cp00560420)\">\n",
       "   <polygon fill=\"#ffffff\" points=\"72.8,373.8 506.8,373.8 506.8,31.5 72.8,31.5\" shape-rendering=\"crispEdges\"/>\n",
       "   <polyline fill=\"none\" points=\"72.8,373.8 72.8,369.456\" stroke=\"#262626\" stroke-linecap=\"butt\" stroke-linejoin=\"miter\" stroke-width=\"0.5\"/>\n",
       "   <polyline fill=\"none\" points=\"72.8,31.5 72.8,35.8438\" stroke=\"#262626\" stroke-linecap=\"butt\" stroke-linejoin=\"miter\" stroke-width=\"0.5\"/>\n",
       "   <polyline fill=\"none\" points=\"159.6,373.8 159.6,369.456\" stroke=\"#262626\" stroke-linecap=\"butt\" stroke-linejoin=\"miter\" stroke-width=\"0.5\"/>\n",
       "   <polyline fill=\"none\" points=\"159.6,31.5 159.6,35.8438\" stroke=\"#262626\" stroke-linecap=\"butt\" stroke-linejoin=\"miter\" stroke-width=\"0.5\"/>\n",
       "   <polyline fill=\"none\" points=\"246.4,373.8 246.4,369.456\" stroke=\"#262626\" stroke-linecap=\"butt\" stroke-linejoin=\"miter\" stroke-width=\"0.5\"/>\n",
       "   <polyline fill=\"none\" points=\"246.4,31.5 246.4,35.8438\" stroke=\"#262626\" stroke-linecap=\"butt\" stroke-linejoin=\"miter\" stroke-width=\"0.5\"/>\n",
       "   <polyline fill=\"none\" points=\"333.2,373.8 333.2,369.456\" stroke=\"#262626\" stroke-linecap=\"butt\" stroke-linejoin=\"miter\" stroke-width=\"0.5\"/>\n",
       "   <polyline fill=\"none\" points=\"333.2,31.5 333.2,35.8438\" stroke=\"#262626\" stroke-linecap=\"butt\" stroke-linejoin=\"miter\" stroke-width=\"0.5\"/>\n",
       "   <polyline fill=\"none\" points=\"420,373.8 420,369.456\" stroke=\"#262626\" stroke-linecap=\"butt\" stroke-linejoin=\"miter\" stroke-width=\"0.5\"/>\n",
       "   <polyline fill=\"none\" points=\"420,31.5 420,35.8438\" stroke=\"#262626\" stroke-linecap=\"butt\" stroke-linejoin=\"miter\" stroke-width=\"0.5\"/>\n",
       "   <polyline fill=\"none\" points=\"506.8,373.8 506.8,369.456\" stroke=\"#262626\" stroke-linecap=\"butt\" stroke-linejoin=\"miter\" stroke-width=\"0.5\"/>\n",
       "   <polyline fill=\"none\" points=\"506.8,31.5 506.8,35.8438\" stroke=\"#262626\" stroke-linecap=\"butt\" stroke-linejoin=\"miter\" stroke-width=\"0.5\"/>\n",
       "   <g font-family=\"FreeSans\" font-size=\"9.32989\" font-style=\"normal\" font-weight=\"normal\" transform=\"translate(70.3,388.804) rotate(-0,2.5,-8)\" xml:space=\"preserve\">\n",
       "    <text fill=\"rgb(38,38,38)\" x=\"0 \" y=\"-0\">1</text>\n",
       "   </g>\n",
       "   <g font-family=\"FreeSans\" font-size=\"9.32989\" font-style=\"normal\" font-weight=\"normal\" transform=\"translate(157.1,388.804) rotate(-0,2.5,-8)\" xml:space=\"preserve\">\n",
       "    <text fill=\"rgb(38,38,38)\" x=\"0 \" y=\"-0\">2</text>\n",
       "   </g>\n",
       "   <g font-family=\"FreeSans\" font-size=\"9.32989\" font-style=\"normal\" font-weight=\"normal\" transform=\"translate(243.9,388.804) rotate(-0,2.5,-8)\" xml:space=\"preserve\">\n",
       "    <text fill=\"rgb(38,38,38)\" x=\"0 \" y=\"-0\">3</text>\n",
       "   </g>\n",
       "   <g font-family=\"FreeSans\" font-size=\"9.32989\" font-style=\"normal\" font-weight=\"normal\" transform=\"translate(330.7,388.804) rotate(-0,2.5,-8)\" xml:space=\"preserve\">\n",
       "    <text fill=\"rgb(38,38,38)\" x=\"0 \" y=\"-0\">4</text>\n",
       "   </g>\n",
       "   <g font-family=\"FreeSans\" font-size=\"9.32989\" font-style=\"normal\" font-weight=\"normal\" transform=\"translate(417.5,388.804) rotate(-0,2.5,-8)\" xml:space=\"preserve\">\n",
       "    <text fill=\"rgb(38,38,38)\" x=\"0 \" y=\"-0\">5</text>\n",
       "   </g>\n",
       "   <g font-family=\"FreeSans\" font-size=\"9.32989\" font-style=\"normal\" font-weight=\"normal\" transform=\"translate(504.3,388.804) rotate(-0,2.5,-8)\" xml:space=\"preserve\">\n",
       "    <text fill=\"rgb(38,38,38)\" x=\"0 \" y=\"-0\">6</text>\n",
       "   </g>\n",
       "   <polyline fill=\"none\" points=\"72.8,373.8 77.14,373.8\" stroke=\"#262626\" stroke-linecap=\"butt\" stroke-linejoin=\"miter\" stroke-width=\"0.5\"/>\n",
       "   <polyline fill=\"none\" points=\"506.8,373.8 502.46,373.8\" stroke=\"#262626\" stroke-linecap=\"butt\" stroke-linejoin=\"miter\" stroke-width=\"0.5\"/>\n",
       "   <polyline fill=\"none\" points=\"72.8,288.225 77.14,288.225\" stroke=\"#262626\" stroke-linecap=\"butt\" stroke-linejoin=\"miter\" stroke-width=\"0.5\"/>\n",
       "   <polyline fill=\"none\" points=\"506.8,288.225 502.46,288.225\" stroke=\"#262626\" stroke-linecap=\"butt\" stroke-linejoin=\"miter\" stroke-width=\"0.5\"/>\n",
       "   <polyline fill=\"none\" points=\"72.8,202.65 77.14,202.65\" stroke=\"#262626\" stroke-linecap=\"butt\" stroke-linejoin=\"miter\" stroke-width=\"0.5\"/>\n",
       "   <polyline fill=\"none\" points=\"506.8,202.65 502.46,202.65\" stroke=\"#262626\" stroke-linecap=\"butt\" stroke-linejoin=\"miter\" stroke-width=\"0.5\"/>\n",
       "   <polyline fill=\"none\" points=\"72.8,117.075 77.14,117.075\" stroke=\"#262626\" stroke-linecap=\"butt\" stroke-linejoin=\"miter\" stroke-width=\"0.5\"/>\n",
       "   <polyline fill=\"none\" points=\"506.8,117.075 502.46,117.075\" stroke=\"#262626\" stroke-linecap=\"butt\" stroke-linejoin=\"miter\" stroke-width=\"0.5\"/>\n",
       "   <polyline fill=\"none\" points=\"72.8,31.5 77.14,31.5\" stroke=\"#262626\" stroke-linecap=\"butt\" stroke-linejoin=\"miter\" stroke-width=\"0.5\"/>\n",
       "   <polyline fill=\"none\" points=\"506.8,31.5 502.46,31.5\" stroke=\"#262626\" stroke-linecap=\"butt\" stroke-linejoin=\"miter\" stroke-width=\"0.5\"/>\n",
       "   <g font-family=\"FreeSans\" font-size=\"9.32989\" font-style=\"normal\" font-weight=\"normal\" transform=\"translate(63.1351,377.8) rotate(-0,5,-4)\" xml:space=\"preserve\">\n",
       "    <text fill=\"rgb(38,38,38)\" x=\"0 \" y=\"-0\">0</text>\n",
       "   </g>\n",
       "   <g font-family=\"FreeSans\" font-size=\"9.32989\" font-style=\"normal\" font-weight=\"normal\" transform=\"translate(58.1351,292.225) rotate(-0,10,-4)\" xml:space=\"preserve\">\n",
       "    <text fill=\"rgb(38,38,38)\" x=\"0 5 \" y=\"-0\">10</text>\n",
       "   </g>\n",
       "   <g font-family=\"FreeSans\" font-size=\"9.32989\" font-style=\"normal\" font-weight=\"normal\" transform=\"translate(58.1351,206.65) rotate(-0,10,-4)\" xml:space=\"preserve\">\n",
       "    <text fill=\"rgb(38,38,38)\" x=\"0 5 \" y=\"-0\">20</text>\n",
       "   </g>\n",
       "   <g font-family=\"FreeSans\" font-size=\"9.32989\" font-style=\"normal\" font-weight=\"normal\" transform=\"translate(58.1351,121.075) rotate(-0,10,-4)\" xml:space=\"preserve\">\n",
       "    <text fill=\"rgb(38,38,38)\" x=\"0 5 \" y=\"-0\">30</text>\n",
       "   </g>\n",
       "   <g font-family=\"FreeSans\" font-size=\"9.32989\" font-style=\"normal\" font-weight=\"normal\" transform=\"translate(58.1351,35.5) rotate(-0,10,-4)\" xml:space=\"preserve\">\n",
       "    <text fill=\"rgb(38,38,38)\" x=\"0 5 \" y=\"-0\">40</text>\n",
       "   </g>\n",
       "   <polyline fill=\"none\" points=\"72.8,373.8 506.8,373.8\" stroke=\"#262626\" stroke-dasharray=\"16,0\" stroke-linecap=\"square\" stroke-linejoin=\"miter\" stroke-width=\"0.5\"/>\n",
       "   <polyline fill=\"none\" points=\"72.8,31.5 506.8,31.5\" stroke=\"#262626\" stroke-dasharray=\"16,0\" stroke-linecap=\"square\" stroke-linejoin=\"miter\" stroke-width=\"0.5\"/>\n",
       "   <polyline fill=\"none\" points=\"72.8,373.8 72.8,31.5\" stroke=\"#262626\" stroke-dasharray=\"16,0\" stroke-linecap=\"square\" stroke-linejoin=\"miter\" stroke-width=\"0.5\"/>\n",
       "   <polyline fill=\"none\" points=\"506.8,373.8 506.8,31.5\" stroke=\"#262626\" stroke-dasharray=\"16,0\" stroke-linecap=\"square\" stroke-linejoin=\"miter\" stroke-width=\"0.5\"/>\n",
       "   <g font-family=\"FreeSans\" font-size=\"10.2629\" font-style=\"normal\" font-weight=\"normal\" transform=\"translate(275.8,402.804) rotate(-0,14,-9)\" xml:space=\"preserve\">\n",
       "    <text fill=\"rgb(38,38,38)\" x=\"0 7 10 16 21 23 \" y=\"-0\">X-axis</text>\n",
       "   </g>\n",
       "   <g font-family=\"FreeSans\" font-size=\"10.2629\" font-style=\"normal\" font-weight=\"normal\" transform=\"translate(39.1351,202.65) rotate(-90,14,0)\" xml:space=\"preserve\">\n",
       "    <text fill=\"rgb(38,38,38)\" x=\"0 7 10 16 21 23 \" y=\"-0\">Y-axis</text>\n",
       "   </g>\n",
       "   <g font-family=\"FreeSans\" font-size=\"10.2629\" font-style=\"normal\" font-weight=\"bold\" transform=\"translate(258.3,21.5) rotate(-0,31.5,0)\" xml:space=\"preserve\">\n",
       "    <text fill=\"rgb(0,0,0)\" x=\"0 7 10 16 19 22 28 32 35 41 44 50 53 \" y=\"-3\">Plot of y = x</text>\n",
       "    <text fill=\"rgb(0,0,0)\" font-size=\"7.18401\" x=\"59 \" y=\"-8\">2</text>\n",
       "   </g>\n",
       "   <polyline fill=\"none\" points=\"72.8,365.242 159.6,339.57 246.4,296.783 333.2,236.88 420,159.862 506.8,65.73\" stroke=\"#0071bc\" stroke-linecap=\"butt\" stroke-linejoin=\"round\" stroke-width=\"0.5\"/>\n",
       "  </g>\n",
       " </g>\n",
       "</svg>"
      ],
      "text/plain": [
       "<IPython.core.display.SVG object>"
      ]
     },
     "metadata": {},
     "output_type": "display_data"
    }
   ],
   "source": [
    "%plot qt\n",
    "%plot --format svg\n",
    "x = [ 1 2 3 4 5 6 ];\n",
    "y=x.^2;\n",
    "plot(x,y);\n",
    "xlabel('X-axis');\n",
    "ylabel('Y-axis');\n",
    "title('Plot of y = x^2');"
   ]
  }
 ],
 "metadata": {
  "kernelspec": {
   "display_name": "Octave",
   "language": "octave",
   "name": "octave"
  },
  "language_info": {
   "file_extension": ".m",
   "help_links": [
    {
     "text": "GNU Octave",
     "url": "https://www.gnu.org/software/octave/support.html"
    },
    {
     "text": "Octave Kernel",
     "url": "https://github.com/Calysto/octave_kernel"
    },
    {
     "text": "MetaKernel Magics",
     "url": "https://metakernel.readthedocs.io/en/latest/source/README.html"
    }
   ],
   "mimetype": "text/x-octave",
   "name": "octave",
   "version": "9.4.0"
  }
 },
 "nbformat": 4,
 "nbformat_minor": 5
}
