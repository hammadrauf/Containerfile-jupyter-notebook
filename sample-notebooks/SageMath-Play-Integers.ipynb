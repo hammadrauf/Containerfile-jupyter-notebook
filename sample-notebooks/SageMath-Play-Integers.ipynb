{
 "cells": [
  {
   "cell_type": "markdown",
   "id": "ff6c7857-7c8f-4331-b3a6-f7aee5b3ec37",
   "metadata": {},
   "source": [
    "# Play Integers SageMath"
   ]
  },
  {
   "cell_type": "code",
   "execution_count": 1,
   "id": "3360fc67-02d3-41f5-aecb-822f8857abab",
   "metadata": {},
   "outputs": [],
   "source": [
    "nn = 5189291"
   ]
  },
  {
   "cell_type": "code",
   "execution_count": 2,
   "id": "9c4d0472-efa1-49ff-9fcb-4bd5b1374259",
   "metadata": {},
   "outputs": [
    {
     "data": {
      "text/plain": [
       "True"
      ]
     },
     "execution_count": 2,
     "metadata": {},
     "output_type": "execute_result"
    }
   ],
   "source": [
    "nn.is_prime()"
   ]
  },
  {
   "cell_type": "code",
   "execution_count": 3,
   "id": "a7dbc0b2-361a-4a9b-a741-5d414f246ff6",
   "metadata": {},
   "outputs": [
    {
     "data": {
      "text/plain": [
       "5189291"
      ]
     },
     "execution_count": 3,
     "metadata": {},
     "output_type": "execute_result"
    }
   ],
   "source": [
    "nn.factor()"
   ]
  },
  {
   "cell_type": "code",
   "execution_count": 4,
   "id": "5ed72afb-248a-4247-b974-2893aa187439",
   "metadata": {},
   "outputs": [
    {
     "data": {
      "text/plain": [
       "[5189291]"
      ]
     },
     "execution_count": 4,
     "metadata": {},
     "output_type": "execute_result"
    }
   ],
   "source": [
    "nn.prime_factors()"
   ]
  },
  {
   "cell_type": "code",
   "execution_count": 6,
   "id": "5b3e7e31-d14d-4fda-9b24-e9ed8cce423b",
   "metadata": {},
   "outputs": [
    {
     "data": {
      "text/plain": [
       "5189293"
      ]
     },
     "execution_count": 6,
     "metadata": {},
     "output_type": "execute_result"
    }
   ],
   "source": [
    "nn.next_prime()"
   ]
  },
  {
   "cell_type": "code",
   "execution_count": 7,
   "id": "cd03ce94-b6fe-4d77-a3ee-e98cff5a4360",
   "metadata": {},
   "outputs": [
    {
     "data": {
      "text/plain": [
       "7"
      ]
     },
     "execution_count": 7,
     "metadata": {},
     "output_type": "execute_result"
    }
   ],
   "source": [
    "nn.ndigits()"
   ]
  },
  {
   "cell_type": "code",
   "execution_count": 12,
   "id": "b3657e7c-bb0a-4273-bf88-a77945697588",
   "metadata": {},
   "outputs": [
    {
     "data": {
      "text/plain": [
       "10"
      ]
     },
     "execution_count": 12,
     "metadata": {},
     "output_type": "execute_result"
    }
   ],
   "source": [
    "120/12"
   ]
  },
  {
   "cell_type": "code",
   "execution_count": 13,
   "id": "a17d1974-cfff-4882-ad34-e8dafb85d65d",
   "metadata": {},
   "outputs": [
    {
     "data": {
      "text/plain": [
       "10.9090909090909"
      ]
     },
     "execution_count": 13,
     "metadata": {},
     "output_type": "execute_result"
    }
   ],
   "source": [
    "120/11.n()"
   ]
  },
  {
   "cell_type": "code",
   "execution_count": 14,
   "id": "a6015ed5-ed59-4765-a5fd-7c8f526f263a",
   "metadata": {},
   "outputs": [
    {
     "data": {
      "text/plain": [
       "10.9090909090909"
      ]
     },
     "execution_count": 14,
     "metadata": {},
     "output_type": "execute_result"
    }
   ],
   "source": [
    "120/11.0"
   ]
  },
  {
   "cell_type": "code",
   "execution_count": 15,
   "id": "4abc7a13-7b65-4cd2-962f-7185f70e8c0d",
   "metadata": {},
   "outputs": [
    {
     "data": {
      "text/plain": [
       "120/11"
      ]
     },
     "execution_count": 15,
     "metadata": {},
     "output_type": "execute_result"
    }
   ],
   "source": [
    "120/11"
   ]
  },
  {
   "cell_type": "code",
   "execution_count": 16,
   "id": "c48367a7-f456-42e8-b922-c470c96cce47",
   "metadata": {},
   "outputs": [
    {
     "data": {
      "text/plain": [
       "19/6"
      ]
     },
     "execution_count": 16,
     "metadata": {},
     "output_type": "execute_result"
    }
   ],
   "source": [
    "38/12"
   ]
  },
  {
   "cell_type": "code",
   "execution_count": 17,
   "id": "5149d444-b384-40c1-a9a3-57daaf8f3224",
   "metadata": {},
   "outputs": [],
   "source": [
    "a, b = 7642, 63"
   ]
  },
  {
   "cell_type": "code",
   "execution_count": 18,
   "id": "cba66008-8896-4a7a-83c8-847630552b08",
   "metadata": {},
   "outputs": [
    {
     "name": "stdout",
     "output_type": "stream",
     "text": [
      "7642 63\n"
     ]
    }
   ],
   "source": [
    "print(a, b)"
   ]
  },
  {
   "cell_type": "code",
   "execution_count": 19,
   "id": "bd5804ac-7df1-4307-93c0-435649533d26",
   "metadata": {},
   "outputs": [
    {
     "data": {
      "text/plain": [
       "7642/63"
      ]
     },
     "execution_count": 19,
     "metadata": {},
     "output_type": "execute_result"
    }
   ],
   "source": [
    "a/b"
   ]
  },
  {
   "cell_type": "code",
   "execution_count": 20,
   "id": "1e335db9-7f1e-40e9-a1da-7ae5b198a4d6",
   "metadata": {},
   "outputs": [
    {
     "data": {
      "text/plain": [
       "121"
      ]
     },
     "execution_count": 20,
     "metadata": {},
     "output_type": "execute_result"
    }
   ],
   "source": [
    "a//b"
   ]
  },
  {
   "cell_type": "code",
   "execution_count": 21,
   "id": "cfcff33a-e4de-47ab-9cc6-60522f3f9db7",
   "metadata": {},
   "outputs": [
    {
     "data": {
      "text/plain": [
       "19"
      ]
     },
     "execution_count": 21,
     "metadata": {},
     "output_type": "execute_result"
    }
   ],
   "source": [
    "a%b"
   ]
  },
  {
   "cell_type": "code",
   "execution_count": 22,
   "id": "948cb2ce-e7e5-487e-9315-c5b883e522a4",
   "metadata": {},
   "outputs": [
    {
     "data": {
      "text/plain": [
       "121.301587301587"
      ]
     },
     "execution_count": 22,
     "metadata": {},
     "output_type": "execute_result"
    }
   ],
   "source": [
    "a/b.n()"
   ]
  },
  {
   "cell_type": "code",
   "execution_count": 23,
   "id": "d7f8bcb4-1bc4-4538-9891-43efcd56d61d",
   "metadata": {},
   "outputs": [
    {
     "data": {
      "text/plain": [
       "(121, 19)"
      ]
     },
     "execution_count": 23,
     "metadata": {},
     "output_type": "execute_result"
    }
   ],
   "source": [
    "a.quo_rem(b)"
   ]
  },
  {
   "cell_type": "code",
   "execution_count": 24,
   "id": "af388827-b605-4f50-baa1-4df2fc06fe2e",
   "metadata": {},
   "outputs": [],
   "source": [
    "q, r = a.quo_rem(b)"
   ]
  },
  {
   "cell_type": "code",
   "execution_count": 25,
   "id": "c86b2954-5926-432b-ab8e-a551f408f7c3",
   "metadata": {},
   "outputs": [
    {
     "data": {
      "text/plain": [
       "True"
      ]
     },
     "execution_count": 25,
     "metadata": {},
     "output_type": "execute_result"
    }
   ],
   "source": [
    "b*q+r==a"
   ]
  },
  {
   "cell_type": "code",
   "execution_count": 26,
   "id": "1bb3f3bf-2dc5-4bd9-8979-7ae2e2ec06cf",
   "metadata": {},
   "outputs": [
    {
     "data": {
      "text/plain": [
       "1"
      ]
     },
     "execution_count": 26,
     "metadata": {},
     "output_type": "execute_result"
    }
   ],
   "source": [
    "gcd(a,b)"
   ]
  },
  {
   "cell_type": "code",
   "execution_count": 27,
   "id": "c1a2eca0-9540-4fc8-a4d2-0be129421e45",
   "metadata": {},
   "outputs": [],
   "source": [
    "a, b = 7642, 62"
   ]
  },
  {
   "cell_type": "code",
   "execution_count": 28,
   "id": "d65f9078-3a5b-4938-bad5-9effeb48a963",
   "metadata": {},
   "outputs": [
    {
     "data": {
      "text/plain": [
       "2"
      ]
     },
     "execution_count": 28,
     "metadata": {},
     "output_type": "execute_result"
    }
   ],
   "source": [
    "gcd(a,b)"
   ]
  }
 ],
 "metadata": {
  "kernelspec": {
   "display_name": "SageMath 10.7",
   "language": "sage",
   "name": "sagemath"
  },
  "language_info": {
   "codemirror_mode": {
    "name": "ipython",
    "version": 3
   },
   "file_extension": ".py",
   "mimetype": "text/x-python",
   "name": "python",
   "nbconvert_exporter": "python",
   "pygments_lexer": "ipython3",
   "version": "3.11.13"
  }
 },
 "nbformat": 4,
 "nbformat_minor": 5
}
