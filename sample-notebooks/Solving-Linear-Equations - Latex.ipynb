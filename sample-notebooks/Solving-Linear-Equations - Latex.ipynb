{
 "cells": [
  {
   "cell_type": "markdown",
   "id": "23606e5c",
   "metadata": {
    "vscode": {
     "languageId": "plaintext"
    }
   },
   "source": [
    "# Solving a System of 3 Linear Equations Using Matrices and Determinants\n",
    "\n",
    "## Introduction\n",
    "\n",
    "We can solve a system of 3 linear equations in 3 variables using matrices and determinants (Cramer's Rule).  \n",
    "Suppose we have the following (randomly generated) system:"
   ]
  },
  {
   "cell_type": "code",
   "execution_count": 1,
   "id": "376f483d",
   "metadata": {
    "vscode": {
     "languageId": "tex"
    }
   },
   "outputs": [
    {
     "data": {
      "text/latex": [
       "$$\n",
       "\\begin{cases}\n",
       "a_{11}x + a_{12}y + a_{13}z = b_1 \\\\\n",
       "a_{21}x + a_{22}y + a_{23}z = b_2 \\\\\n",
       "a_{31}x + a_{32}y + a_{33}z = b_3\n",
       "\\end{cases}\n",
       "$$"
      ],
      "text/plain": [
       "<IPython.core.display.Latex object>"
      ]
     },
     "metadata": {},
     "output_type": "display_data"
    }
   ],
   "source": [
    "%%latex\n",
    "$$\n",
    "\\begin{cases}\n",
    "a_{11}x + a_{12}y + a_{13}z = b_1 \\\\\n",
    "a_{21}x + a_{22}y + a_{23}z = b_2 \\\\\n",
    "a_{31}x + a_{32}y + a_{33}z = b_3\n",
    "\\end{cases}\n",
    "$$"
   ]
  },
  {
   "cell_type": "markdown",
   "id": "367f8d2c",
   "metadata": {},
   "source": [
    "## Step 1: Write the System in Matrix Form\n",
    "\n",
    "The system can be written as:\n"
   ]
  },
  {
   "cell_type": "code",
   "execution_count": 2,
   "id": "e9d35da9",
   "metadata": {
    "vscode": {
     "languageId": "tex"
    }
   },
   "outputs": [
    {
     "data": {
      "text/latex": [
       "\n",
       "$$\n",
       "A \\cdot X = B\n",
       "$$\n",
       "\n",
       "Where:\n",
       "\n",
       "$$\n",
       "A = \\begin{bmatrix}\n",
       "a_{11} & a_{12} & a_{13} \\\\\n",
       "a_{21} & a_{22} & a_{23} \\\\\n",
       "a_{31} & a_{32} & a_{33}\n",
       "\\end{bmatrix}, \\quad\n",
       "X = \\begin{bmatrix}\n",
       "x \\\\ y \\\\ z\n",
       "\\end{bmatrix}, \\quad\n",
       "B = \\begin{bmatrix}\n",
       "b_1 \\\\ b_2 \\\\ b_3\n",
       "\\end{bmatrix}\n",
       "$$"
      ],
      "text/plain": [
       "<IPython.core.display.Latex object>"
      ]
     },
     "metadata": {},
     "output_type": "display_data"
    }
   ],
   "source": [
    "%%latex\n",
    "\n",
    "$$\n",
    "A \\cdot X = B\n",
    "$$\n",
    "\n",
    "Where:\n",
    "\n",
    "$$\n",
    "A = \\begin{bmatrix}\n",
    "a_{11} & a_{12} & a_{13} \\\\\n",
    "a_{21} & a_{22} & a_{23} \\\\\n",
    "a_{31} & a_{32} & a_{33}\n",
    "\\end{bmatrix}, \\quad\n",
    "X = \\begin{bmatrix}\n",
    "x \\\\ y \\\\ z\n",
    "\\end{bmatrix}, \\quad\n",
    "B = \\begin{bmatrix}\n",
    "b_1 \\\\ b_2 \\\\ b_3\n",
    "\\end{bmatrix}\n",
    "$$\n"
   ]
  },
  {
   "cell_type": "markdown",
   "id": "2fb8ac3f",
   "metadata": {},
   "source": [
    "## Step 2: Enter the Matrices in Octave"
   ]
  },
  {
   "cell_type": "markdown",
   "id": "dc3219ac",
   "metadata": {},
   "source": [
    "## Step 3: Find the Determinant of A\n",
    "\n",
    "The determinant of matrix \\( A \\) is:"
   ]
  },
  {
   "cell_type": "code",
   "execution_count": 3,
   "id": "9107b8a8",
   "metadata": {
    "vscode": {
     "languageId": "tex"
    }
   },
   "outputs": [
    {
     "data": {
      "text/latex": [
       "\n",
       "$$\n",
       "|A| = \\begin{vmatrix}\n",
       "a_{11} & a_{12} & a_{13} \\\\\n",
       "a_{21} & a_{22} & a_{23} \\\\\n",
       "a_{31} & a_{32} & a_{33}\n",
       "\\end{vmatrix}\n",
       "$$"
      ],
      "text/plain": [
       "<IPython.core.display.Latex object>"
      ]
     },
     "metadata": {},
     "output_type": "display_data"
    }
   ],
   "source": [
    "%%latex\n",
    "\n",
    "$$\n",
    "|A| = \\begin{vmatrix}\n",
    "a_{11} & a_{12} & a_{13} \\\\\n",
    "a_{21} & a_{22} & a_{23} \\\\\n",
    "a_{31} & a_{32} & a_{33}\n",
    "\\end{vmatrix}\n",
    "$$"
   ]
  },
  {
   "cell_type": "markdown",
   "id": "4844f3ec",
   "metadata": {},
   "source": [
    "## Step 4: Find Determinants for Each Variable (Cramer's Rule)\n",
    "\n",
    "Replace each column of \\( A \\) with \\( B \\) to get matrices \\( A_x, A_y, A_z \\):"
   ]
  },
  {
   "cell_type": "code",
   "execution_count": 4,
   "id": "18052e79",
   "metadata": {
    "vscode": {
     "languageId": "tex"
    }
   },
   "outputs": [
    {
     "data": {
      "text/latex": [
       "\n",
       "$$\n",
       "A_x = \\begin{bmatrix}\n",
       "b_1 & a_{12} & a_{13} \\\\\n",
       "b_2 & a_{22} & a_{23} \\\\\n",
       "b_3 & a_{32} & a_{33}\n",
       "\\end{bmatrix},\n",
       "\n",
       "\\quad\n",
       "\n",
       "A_y = \\begin{bmatrix}\n",
       "a_{11} & b_1 & a_{13} \\\\\n",
       "a_{21} & b_2 & a_{23} \\\\\n",
       "a_{31} & b_3 & a_{33}\n",
       "\\end{bmatrix},\n",
       "\n",
       "\\quad\n",
       "\n",
       "A_z = \\begin{bmatrix}\n",
       "a_{11} & a_{12} & b_1 \\\\\n",
       "a_{21} & a_{22} & b_2 \\\\\n",
       "a_{31} & a_{32} & b_3\n",
       "\\end{bmatrix}\n",
       "$$"
      ],
      "text/plain": [
       "<IPython.core.display.Latex object>"
      ]
     },
     "metadata": {},
     "output_type": "display_data"
    }
   ],
   "source": [
    "%%latex\n",
    "\n",
    "$$\n",
    "A_x = \\begin{bmatrix}\n",
    "b_1 & a_{12} & a_{13} \\\\\n",
    "b_2 & a_{22} & a_{23} \\\\\n",
    "b_3 & a_{32} & a_{33}\n",
    "\\end{bmatrix},\n",
    "\n",
    "\\quad\n",
    "\n",
    "A_y = \\begin{bmatrix}\n",
    "a_{11} & b_1 & a_{13} \\\\\n",
    "a_{21} & b_2 & a_{23} \\\\\n",
    "a_{31} & b_3 & a_{33}\n",
    "\\end{bmatrix},\n",
    "\n",
    "\\quad\n",
    "\n",
    "A_z = \\begin{bmatrix}\n",
    "a_{11} & a_{12} & b_1 \\\\\n",
    "a_{21} & a_{22} & b_2 \\\\\n",
    "a_{31} & a_{32} & b_3\n",
    "\\end{bmatrix}\n",
    "$$"
   ]
  },
  {
   "cell_type": "markdown",
   "id": "600ec902",
   "metadata": {},
   "source": [
    "## Step 5: Solve for x, y, z\n",
    "\n",
    "By Cramer's Rule:\n"
   ]
  },
  {
   "cell_type": "code",
   "execution_count": 5,
   "id": "20bb654f",
   "metadata": {
    "vscode": {
     "languageId": "tex"
    }
   },
   "outputs": [
    {
     "data": {
      "text/latex": [
       "$$\n",
       "x = \\frac{|A_x|}{|A|}, \\quad\n",
       "y = \\frac{|A_y|}{|A|}, \\quad\n",
       "z = \\frac{|A_z|}{|A|}\n",
       "$$"
      ],
      "text/plain": [
       "<IPython.core.display.Latex object>"
      ]
     },
     "metadata": {},
     "output_type": "display_data"
    }
   ],
   "source": [
    "%%latex\n",
    "$$\n",
    "x = \\frac{|A_x|}{|A|}, \\quad\n",
    "y = \\frac{|A_y|}{|A|}, \\quad\n",
    "z = \\frac{|A_z|}{|A|}\n",
    "$$"
   ]
  },
  {
   "cell_type": "markdown",
   "id": "fc8c24c2",
   "metadata": {},
   "source": [
    "## Step 6: Verification\n",
    "\n",
    "Check the solution by substituting \\( x, y, z \\) back into the original equations."
   ]
  },
  {
   "cell_type": "markdown",
   "id": "02e47edf",
   "metadata": {},
   "source": [
    "## Conclusion\n",
    "\n",
    "We have solved the system of equations using matrices and determinants.  \n",
    "This method is systematic and works for any set of linear equations with a non-zero determinant."
   ]
  }
 ],
 "metadata": {
  "kernelspec": {
   "display_name": "Octave",
   "language": "octave",
   "name": "octave"
  },
  "language_info": {
   "file_extension": ".m",
   "help_links": [
    {
     "text": "GNU Octave",
     "url": "https://www.gnu.org/software/octave/support.html"
    },
    {
     "text": "Octave Kernel",
     "url": "https://github.com/Calysto/octave_kernel"
    },
    {
     "text": "MetaKernel Magics",
     "url": "https://metakernel.readthedocs.io/en/latest/source/README.html"
    }
   ],
   "mimetype": "text/x-octave",
   "name": "octave",
   "version": "9.4.0"
  }
 },
 "nbformat": 4,
 "nbformat_minor": 5
}
