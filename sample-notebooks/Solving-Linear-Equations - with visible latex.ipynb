{
 "cells": [
  {
   "cell_type": "markdown",
   "id": "23606e5c",
   "metadata": {
    "vscode": {
     "languageId": "plaintext"
    }
   },
   "source": [
    "# Solving a System of 3 Linear Equations Using Matrices and Determinants\n",
    "\n",
    "## Introduction\n",
    "\n",
    "We can solve a system of 3 linear equations in 3 variables using matrices and determinants (Cramer's Rule).  \n",
    "Suppose we have the following (randomly generated) system:"
   ]
  },
  {
   "cell_type": "code",
   "execution_count": 23,
   "id": "746749bf",
   "metadata": {
    "vscode": {
     "languageId": "tex"
    }
   },
   "outputs": [],
   "source": [
    "%%octave\n",
    "% Randomly generate coefficients for a 3x3 system\n",
    "A = randi([-9, 9], 3, 3); % Coefficient matrix (avoid all zeros for a row)\n",
    "while det(A) == 0\n",
    "    A = randi([-9, 9], 3, 3); % Ensure the system is solvable\n",
    "end\n",
    "B = randi([-20, 20], 3, 1); % Constants\n",
    "\n",
    "% Assign coefficients for easy reference\n",
    "a11 = A(1,1); a12 = A(1,2); a13 = A(1,3); b1 = B(1);\n",
    "a21 = A(2,1); a22 = A(2,2); a23 = A(2,3); b2 = B(2);\n",
    "a31 = A(3,1); a32 = A(3,2); a33 = A(3,3); b3 = B(3);"
   ]
  },
  {
   "cell_type": "code",
   "execution_count": 24,
   "id": "369b1aee",
   "metadata": {
    "vscode": {
     "languageId": "tex"
    }
   },
   "outputs": [
    {
     "name": "stdout",
     "output_type": "stream",
     "text": [
      "-3x + 8y + -9z = 10\n",
      "-1x + 9y + -8z = -2\n",
      "1x + 4y + -8z = -11\n"
     ]
    }
   ],
   "source": [
    "%%octave\n",
    "% Display the system in readable form\n",
    "fprintf('%.0fx + %.0fy + %.0fz = %.0f\\n', a11, a12, a13, b1);\n",
    "fprintf('%.0fx + %.0fy + %.0fz = %.0f\\n', a21, a22, a23, b2);\n",
    "fprintf('%.0fx + %.0fy + %.0fz = %.0f\\n', a31, a32, a33, b3);"
   ]
  },
  {
   "cell_type": "code",
   "execution_count": 25,
   "id": "376f483d",
   "metadata": {
    "vscode": {
     "languageId": "tex"
    }
   },
   "outputs": [
    {
     "data": {
      "text/latex": [
       "$\\begin{cases}\n",
       "a_{11}x + a_{12}y + a_{13}z = b_1 \\\\\n",
       "a_{21}x + a_{22}y + a_{23}z = b_2 \\\\\n",
       "a_{31}x + a_{32}y + a_{33}z = b_3\n",
       "\\end{cases}$"
      ],
      "text/plain": [
       "<IPython.core.display.Latex object>"
      ]
     },
     "metadata": {},
     "output_type": "display_data"
    }
   ],
   "source": [
    "%%latex\n",
    "$\\begin{cases}\n",
    "a_{11}x + a_{12}y + a_{13}z = b_1 \\\\\n",
    "a_{21}x + a_{22}y + a_{23}z = b_2 \\\\\n",
    "a_{31}x + a_{32}y + a_{33}z = b_3\n",
    "\\end{cases}$"
   ]
  },
  {
   "cell_type": "markdown",
   "id": "367f8d2c",
   "metadata": {},
   "source": [
    "## Step 1: Write the System in Matrix Form\n",
    "\n",
    "The system can be written as:\n"
   ]
  },
  {
   "cell_type": "code",
   "execution_count": 26,
   "id": "22a68000-3102-4e4f-bea9-52063613046a",
   "metadata": {
    "vscode": {
     "languageId": "tex"
    }
   },
   "outputs": [
    {
     "data": {
      "text/latex": [
       "$A \\cdot X = B$ $\\quad$\n",
       "Where:$\\quad$\n",
       "$A=\\begin{bmatrix}\n",
       "a_{11} & a_{12} & a_{13} \\\\\n",
       "a_{21} & a_{22} & a_{23} \\\\\n",
       "a_{31} & a_{32} & a_{33}\n",
       "\\end{bmatrix},\\quad\n",
       "X=\\begin{bmatrix}\n",
       "x \\\\ y \\\\ z\n",
       "\\end{bmatrix},\\quad\n",
       "B=\\begin{bmatrix}\n",
       "b_1 \\\\ b_2 \\\\ b_3\n",
       "\\end{bmatrix}$"
      ],
      "text/plain": [
       "<IPython.core.display.Latex object>"
      ]
     },
     "metadata": {},
     "output_type": "display_data"
    }
   ],
   "source": [
    "%%latex\n",
    "$A \\cdot X = B$ $\\quad$\n",
    "Where:$\\quad$\n",
    "$A=\\begin{bmatrix}\n",
    "a_{11} & a_{12} & a_{13} \\\\\n",
    "a_{21} & a_{22} & a_{23} \\\\\n",
    "a_{31} & a_{32} & a_{33}\n",
    "\\end{bmatrix},\\quad\n",
    "X=\\begin{bmatrix}\n",
    "x \\\\ y \\\\ z\n",
    "\\end{bmatrix},\\quad\n",
    "B=\\begin{bmatrix}\n",
    "b_1 \\\\ b_2 \\\\ b_3\n",
    "\\end{bmatrix}$"
   ]
  },
  {
   "cell_type": "markdown",
   "id": "2fb8ac3f",
   "metadata": {},
   "source": [
    "## Step 2: Enter the Matrices in Octave"
   ]
  },
  {
   "cell_type": "code",
   "execution_count": 27,
   "id": "528d1d94",
   "metadata": {
    "vscode": {
     "languageId": "tex"
    }
   },
   "outputs": [
    {
     "name": "stdout",
     "output_type": "stream",
     "text": [
      "Matrix A:\n",
      "  -3   8  -9\n",
      "  -1   9  -8\n",
      "   1   4  -8\n",
      "Matrix B:\n",
      "   10\n",
      "   -2\n",
      "  -11\n"
     ]
    }
   ],
   "source": [
    "%%octave\n",
    "% Coefficient matrix A\n",
    "A = [a11 a12 a13; a21 a22 a23; a31 a32 a33];\n",
    "\n",
    "% Constants column vector B\n",
    "B = [b1; b2; b3];\n",
    "\n",
    "disp('Matrix A:');\n",
    "disp(A);\n",
    "\n",
    "disp('Matrix B:');\n",
    "disp(B);"
   ]
  },
  {
   "cell_type": "markdown",
   "id": "dc3219ac",
   "metadata": {},
   "source": [
    "## Step 3: Find the Determinant of A\n",
    "\n",
    "The determinant of matrix \\( A \\) is:"
   ]
  },
  {
   "cell_type": "code",
   "execution_count": 28,
   "id": "9107b8a8",
   "metadata": {
    "vscode": {
     "languageId": "tex"
    }
   },
   "outputs": [
    {
     "data": {
      "text/latex": [
       "$|A|=\\begin{vmatrix}\n",
       "a_{11} & a_{12} & a_{13} \\\\\n",
       "a_{21} & a_{22} & a_{23} \\\\\n",
       "a_{31} & a_{32} & a_{33}\n",
       "\\end{vmatrix}$"
      ],
      "text/plain": [
       "<IPython.core.display.Latex object>"
      ]
     },
     "metadata": {},
     "output_type": "display_data"
    }
   ],
   "source": [
    "%%latex\n",
    "$|A|=\\begin{vmatrix}\n",
    "a_{11} & a_{12} & a_{13} \\\\\n",
    "a_{21} & a_{22} & a_{23} \\\\\n",
    "a_{31} & a_{32} & a_{33}\n",
    "\\end{vmatrix}$"
   ]
  },
  {
   "cell_type": "code",
   "execution_count": 29,
   "id": "6c0b4670",
   "metadata": {
    "vscode": {
     "languageId": "tex"
    }
   },
   "outputs": [
    {
     "name": "stdout",
     "output_type": "stream",
     "text": [
      "Determinant of A:\n",
      "109.00\n"
     ]
    }
   ],
   "source": [
    "%%octave\n",
    "% Calculate the determinant of A\n",
    "det_A = det(A);\n",
    "disp('Determinant of A:');\n",
    "disp(det_A);"
   ]
  },
  {
   "cell_type": "markdown",
   "id": "4844f3ec",
   "metadata": {},
   "source": [
    "## Step 4: Find Determinants for Each Variable (Cramer's Rule)\n",
    "\n",
    "Replace each column of \\( A \\) with \\( B \\) to get matrices \\( A_x, A_y, A_z \\):"
   ]
  },
  {
   "cell_type": "code",
   "execution_count": 30,
   "id": "18052e79",
   "metadata": {
    "vscode": {
     "languageId": "tex"
    }
   },
   "outputs": [
    {
     "data": {
      "text/latex": [
       "$A_x=\\begin{bmatrix}\n",
       "b_1 & a_{12} & a_{13} \\\\\n",
       "b_2 & a_{22} & a_{23} \\\\\n",
       "b_3 & a_{32} & a_{33}\n",
       "\\end{bmatrix},\\quad\n",
       "A_y=\\begin{bmatrix}\n",
       "a_{11} & b_1 & a_{13} \\\\\n",
       "a_{21} & b_2 & a_{23} \\\\\n",
       "a_{31} & b_3 & a_{33}\n",
       "\\end{bmatrix},\\quad\n",
       "A_z=\\begin{bmatrix}\n",
       "a_{11} & a_{12} & b_1 \\\\\n",
       "a_{21} & a_{22} & b_2 \\\\\n",
       "a_{31} & a_{32} & b_3\n",
       "\\end{bmatrix}$"
      ],
      "text/plain": [
       "<IPython.core.display.Latex object>"
      ]
     },
     "metadata": {},
     "output_type": "display_data"
    }
   ],
   "source": [
    "%%latex\n",
    "$A_x=\\begin{bmatrix}\n",
    "b_1 & a_{12} & a_{13} \\\\\n",
    "b_2 & a_{22} & a_{23} \\\\\n",
    "b_3 & a_{32} & a_{33}\n",
    "\\end{bmatrix},\\quad\n",
    "A_y=\\begin{bmatrix}\n",
    "a_{11} & b_1 & a_{13} \\\\\n",
    "a_{21} & b_2 & a_{23} \\\\\n",
    "a_{31} & b_3 & a_{33}\n",
    "\\end{bmatrix},\\quad\n",
    "A_z=\\begin{bmatrix}\n",
    "a_{11} & a_{12} & b_1 \\\\\n",
    "a_{21} & a_{22} & b_2 \\\\\n",
    "a_{31} & a_{32} & b_3\n",
    "\\end{bmatrix}$"
   ]
  },
  {
   "cell_type": "code",
   "execution_count": 31,
   "id": "a20a8ae1",
   "metadata": {
    "vscode": {
     "languageId": "tex"
    }
   },
   "outputs": [
    {
     "name": "stdout",
     "output_type": "stream",
     "text": [
      "Determinant of A_x:\n",
      "-643.00\n",
      "Determinant of A_y:\n",
      "-61.000\n",
      "Determinant of A_z:\n",
      "39.000\n"
     ]
    }
   ],
   "source": [
    "%%octave\n",
    "% Calculate determinants of A_x, A_y, A_z\n",
    "A_x = A;\n",
    "A_x(:,1) = B;\n",
    "\n",
    "A_y = A;\n",
    "A_y(:,2) = B;\n",
    "\n",
    "A_z = A;\n",
    "A_z(:,3) = B;\n",
    "\n",
    "det_Ax = det(A_x);\n",
    "det_Ay = det(A_y);\n",
    "det_Az = det(A_z);\n",
    "\n",
    "disp('Determinant of A_x:');\n",
    "disp(det_Ax);\n",
    "\n",
    "disp('Determinant of A_y:');\n",
    "disp(det_Ay);\n",
    "\n",
    "disp('Determinant of A_z:');\n",
    "disp(det_Az);"
   ]
  },
  {
   "cell_type": "markdown",
   "id": "600ec902",
   "metadata": {},
   "source": [
    "## Step 5: Solve for x, y, z\n",
    "\n",
    "By Cramer's Rule:\n"
   ]
  },
  {
   "cell_type": "code",
   "execution_count": 32,
   "id": "20bb654f",
   "metadata": {
    "vscode": {
     "languageId": "tex"
    }
   },
   "outputs": [
    {
     "data": {
      "text/latex": [
       "$x=\\frac{|A_x|}{|A|},\\quad\n",
       "y=\\frac{|A_y|}{|A|},\\quad\n",
       "z=\\frac{|A_z|}{|A|}$"
      ],
      "text/plain": [
       "<IPython.core.display.Latex object>"
      ]
     },
     "metadata": {},
     "output_type": "display_data"
    }
   ],
   "source": [
    "%%latex\n",
    "$x=\\frac{|A_x|}{|A|},\\quad\n",
    "y=\\frac{|A_y|}{|A|},\\quad\n",
    "z=\\frac{|A_z|}{|A|}$"
   ]
  },
  {
   "cell_type": "code",
   "execution_count": 33,
   "id": "6b4a12c1",
   "metadata": {
    "vscode": {
     "languageId": "tex"
    }
   },
   "outputs": [
    {
     "name": "stdout",
     "output_type": "stream",
     "text": [
      "Solution:\n",
      "x = -5.899\n",
      "y = -0.560\n",
      "z = 0.358\n"
     ]
    }
   ],
   "source": [
    "%%octave\n",
    "% Calculate x, y, and z\n",
    "x = det_Ax / det_A;\n",
    "y = det_Ay / det_A;\n",
    "z = det_Az / det_A;\n",
    "\n",
    "fprintf('Solution:\\n');\n",
    "fprintf('x = %.3f\\n', x);\n",
    "fprintf('y = %.3f\\n', y);\n",
    "fprintf('z = %.3f\\n', z);"
   ]
  },
  {
   "cell_type": "markdown",
   "id": "fc8c24c2",
   "metadata": {},
   "source": [
    "## Step 6: Verification\n",
    "\n",
    "Check the solution by substituting \\( x, y, z \\) back into the original equations."
   ]
  },
  {
   "cell_type": "code",
   "execution_count": 34,
   "id": "c2d5fc77",
   "metadata": {
    "vscode": {
     "languageId": "tex"
    }
   },
   "outputs": [
    {
     "name": "stdout",
     "output_type": "stream",
     "text": [
      "A * [x; y; z] =\n",
      "   10\n",
      "   -2\n",
      "  -11\n",
      "Should be equal to B:\n",
      "   10\n",
      "   -2\n",
      "  -11\n"
     ]
    }
   ],
   "source": [
    "%%octave\n",
    "% Substitute values into the original equations\n",
    "check = A * [x; y; z];\n",
    "disp('A * [x; y; z] =');\n",
    "disp(check);\n",
    "disp('Should be equal to B:');\n",
    "disp(B);"
   ]
  },
  {
   "cell_type": "markdown",
   "id": "02e47edf",
   "metadata": {},
   "source": [
    "## Conclusion\n",
    "\n",
    "We have solved the system of equations using matrices and determinants.  \n",
    "This method is systematic and works for any set of linear equations with a non-zero determinant."
   ]
  }
 ],
 "metadata": {
  "kernelspec": {
   "display_name": "Octave",
   "language": "octave",
   "name": "octave"
  },
  "language_info": {
   "file_extension": ".m",
   "help_links": [
    {
     "text": "GNU Octave",
     "url": "https://www.gnu.org/software/octave/support.html"
    },
    {
     "text": "Octave Kernel",
     "url": "https://github.com/Calysto/octave_kernel"
    },
    {
     "text": "MetaKernel Magics",
     "url": "https://metakernel.readthedocs.io/en/latest/source/README.html"
    }
   ],
   "mimetype": "text/x-octave",
   "name": "octave",
   "version": "9.4.0"
  }
 },
 "nbformat": 4,
 "nbformat_minor": 5
}
